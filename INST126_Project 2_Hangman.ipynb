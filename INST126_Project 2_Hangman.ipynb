{
 "cells": [
  {
   "cell_type": "code",
   "execution_count": null,
   "metadata": {
    "scrolled": true
   },
   "outputs": [
    {
     "name": "stdout",
     "output_type": "stream",
     "text": [
      "Welcome to Hangman!\n",
      "\n",
      "The word is 4 letters long.\n",
      "_ _ _ _ "
     ]
    }
   ],
   "source": [
    "# function definitions:\n",
    "def decrypt(cipher_text):\n",
    "    plain_text = \"\"\n",
    "    i = 0\n",
    "    for val in range(len(cipher_text)):\n",
    "        if i < len(cipher_text):\n",
    "            if i % 2 == 0:\n",
    "                cipher_ascii = ord(cipher_text[i])\n",
    "                plain_ascii = cipher_ascii - 1\n",
    "                plain_text += chr(plain_ascii)\n",
    "                i += 1\n",
    "            else:\n",
    "                cipher_ascii = ord(cipher_text[i])\n",
    "                plain_ascii = cipher_ascii + 1\n",
    "                plain_text += chr(plain_ascii)\n",
    "                i += 1\n",
    "        else:\n",
    "            return plain_text\n",
    "    print(\"\\nCongratulations you won! The word was: \")\n",
    "    print(plain_text)\n",
    "\n",
    "# main code below: \n",
    "# choosing a random word from the list. this is the word that the user will have to guess\n",
    "import random\n",
    "words = [\"WHDSPQZ\", \"XHO\", \"TTDBFRT\", \"QQJYF\", \"ENQD\", \"DNPK\", \"CNTR\", \"EHWHOD\", \"TSVMOHOF\", \"XNOCFQGTM\"]\n",
    "secret_word = random.choice(words)\n",
    "\n",
    "# game beginning/introduction\n",
    "print(\"Welcome to Hangman!\")\n",
    "print()\n",
    "print(\"The word is\", len(secret_word), \"letters long.\")\n",
    " \n",
    "guesses = \"\"\n",
    "# stores all of user's guesses, regardless if the guess was correct or incorrect\n",
    "guessedLetters = []\n",
    "turns = 10\n",
    "\n",
    "while turns > 0:\n",
    "    # both \"turns\" and \"incorrect\" variables will track if the user will win or lose\n",
    "    incorrect = 0\n",
    "    for char in secret_word:\n",
    "        # \"letter matching\" (compare user's guess with what is in guesses)\n",
    "        if char in guesses: \n",
    "            # user guesses correctly = replace blank with the letter\n",
    "            print(char, end = \"\")\n",
    "        else: \n",
    "            # user guesses incorrectly = keep the blank\n",
    "            print(\"_\", end = \" \")\n",
    "            incorrect += 1\n",
    "    if incorrect == 0:\n",
    "        # decrypt secret word (decrypt function) before revealing\n",
    "        cipher_text = secret_word\n",
    "        decrypt(cipher_text)\n",
    "        break\n",
    "    # expect user to enter only letters and nothing else\n",
    "    # since decoded words are capitalized, remain consistent and keep the user's guess capitalized as well\n",
    "    user_guess = input(\"\\nGuess a letter: \").upper()\n",
    "    # \"letter matching\" - compare user's guess to what is already in guesses\n",
    "    guesses += user_guess\n",
    "    if user_guess not in secret_word:\n",
    "        # if user's guess is wrong, decrease number of turns & append user's guess into guessedLetters\n",
    "        turns = turns - 1\n",
    "        # check to make sure that the user didn't guess the same letter twice\n",
    "        if user_guess in guessedLetters:\n",
    "            user_guess = input(\"You already guessed that letter. Guess a different letter: \").upper()\n",
    "            guessedLetters.append(user_guess) \n",
    "            print(\"Guessed Letters: \", guessedLetters)\n",
    "        else: \n",
    "            guessedLetters.append(user_guess) \n",
    "            print(\"Guessed Letters: \", guessedLetters)\n",
    "        # display amount of turns left\n",
    "        print(\"\\nIncorrect. You have\", turns, \"more guesses.\")\n",
    "    else:\n",
    "        # still append correct letters into list of guessedLetters\n",
    "        guessedLetters.append(user_guess)\n",
    "        print(\"Guessed Letters: \", guessedLetters)\n",
    "    if turns == 0:\n",
    "        print(\"\\nYou ran out of guesses. You lose.\")"
   ]
  }
 ],
 "metadata": {
  "kernelspec": {
   "display_name": "Python 3",
   "language": "python",
   "name": "python3"
  },
  "language_info": {
   "codemirror_mode": {
    "name": "ipython",
    "version": 3
   },
   "file_extension": ".py",
   "mimetype": "text/x-python",
   "name": "python",
   "nbconvert_exporter": "python",
   "pygments_lexer": "ipython3",
   "version": "3.8.5"
  }
 },
 "nbformat": 4,
 "nbformat_minor": 4
}
